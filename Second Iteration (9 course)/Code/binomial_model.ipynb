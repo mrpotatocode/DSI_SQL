{
 "cells": [
  {
   "cell_type": "markdown",
   "id": "cf4c54e2",
   "metadata": {},
   "source": [
    "# Binomial Model"
   ]
  },
  {
   "cell_type": "code",
   "execution_count": null,
   "id": "2b6ca172",
   "metadata": {},
   "outputs": [],
   "source": [
    "#!pip install pandas\n",
    "#!pip install sqlite3\n",
    "#!pip install pandasql\n",
    "#!pip install statsmodels"
   ]
  },
  {
   "cell_type": "code",
   "execution_count": 1,
   "id": "0f048a18",
   "metadata": {},
   "outputs": [],
   "source": [
    "import pandas as pd\n",
    "import sqlite3\n",
    "import statsmodels.api as sm\n",
    "import statsmodels.formula.api as smf"
   ]
  },
  {
   "cell_type": "code",
   "execution_count": 2,
   "id": "4924a071",
   "metadata": {},
   "outputs": [],
   "source": [
    "#set your location, slash direction will change for windows and mac\n",
    "DB = '/Users/thomas/Documents/GitHub/02-intro_sql/SQL/FarmersMarket.db' \n",
    "#establish your connection\n",
    "conn = sqlite3.connect(DB, isolation_level=None,\n",
    "                       detect_types=sqlite3.PARSE_COLNAMES)"
   ]
  },
  {
   "cell_type": "code",
   "execution_count": 3,
   "id": "46ab5f4d",
   "metadata": {},
   "outputs": [],
   "source": [
    "#run your query, use \"\\\" to allow line breaks\n",
    "db_df = pd.read_sql_query(\"WITH \\\n",
    "    customer_markets_attended AS \\\n",
    "    ( \\\n",
    "      SELECT DISTINCT \\\n",
    "      customer_id, \\\n",
    "      market_date \\\n",
    "      FROM customer_purchases \\\n",
    "      ORDER BY customer_id, market_date \\\n",
    "    ) \\\n",
    "    SELECT \\\n",
    "    cp.market_date, \\\n",
    "    cp.customer_id, \\\n",
    "    SUM(cp.quantity * cp.cost_to_customer_per_qty) AS purchase_total, \\\n",
    "    COUNT(DISTINCT cp.vendor_id) AS vendors_patronized, \\\n",
    "    COUNT(DISTINCT cp.product_id) AS different_products_purchased, \\\n",
    "    CASE WHEN \\\n",
    "    CAST( \\\n",
    "      JULIANDAY((SELECT MIN(cma3.market_date) \\\n",
    "                 FROM customer_markets_attended AS cma3 \\\n",
    "                 WHERE cma3.customer_id = cp.customer_id \\\n",
    "                 AND cma3.market_date > cp.market_date \\\n",
    "                 GROUP BY cma3.customer_id)) -  \\\n",
    "        JULIANDAY(cp.market_date) AS INTEGER) <= 7 \\\n",
    "    THEN 1 \\\n",
    "    ELSE 0 END AS purchased_again_within_7_days \\\n",
    "    FROM customer_purchases AS cp \\\n",
    "    GROUP BY cp.customer_id, cp.market_date \\\n",
    "    ORDER BY cp.customer_id, cp.market_date\"\n",
    "                          ,conn)"
   ]
  },
  {
   "cell_type": "code",
   "execution_count": 4,
   "id": "5d21f370",
   "metadata": {},
   "outputs": [],
   "source": [
    "bi_df = db_df.drop(['market_date', 'customer_id'], axis=1)"
   ]
  },
  {
   "cell_type": "code",
   "execution_count": 5,
   "id": "a64f3422",
   "metadata": {},
   "outputs": [
    {
     "data": {
      "text/html": [
       "<div>\n",
       "<style scoped>\n",
       "    .dataframe tbody tr th:only-of-type {\n",
       "        vertical-align: middle;\n",
       "    }\n",
       "\n",
       "    .dataframe tbody tr th {\n",
       "        vertical-align: top;\n",
       "    }\n",
       "\n",
       "    .dataframe thead th {\n",
       "        text-align: right;\n",
       "    }\n",
       "</style>\n",
       "<table border=\"1\" class=\"dataframe\">\n",
       "  <thead>\n",
       "    <tr style=\"text-align: right;\">\n",
       "      <th></th>\n",
       "      <th>purchase_total</th>\n",
       "      <th>vendors_patronized</th>\n",
       "      <th>different_products_purchased</th>\n",
       "    </tr>\n",
       "    <tr>\n",
       "      <th>purchased_again_within_7_days</th>\n",
       "      <th></th>\n",
       "      <th></th>\n",
       "      <th></th>\n",
       "    </tr>\n",
       "  </thead>\n",
       "  <tbody>\n",
       "    <tr>\n",
       "      <th>0</th>\n",
       "      <td>378</td>\n",
       "      <td>378</td>\n",
       "      <td>378</td>\n",
       "    </tr>\n",
       "    <tr>\n",
       "      <th>1</th>\n",
       "      <td>1640</td>\n",
       "      <td>1640</td>\n",
       "      <td>1640</td>\n",
       "    </tr>\n",
       "  </tbody>\n",
       "</table>\n",
       "</div>"
      ],
      "text/plain": [
       "                               purchase_total  vendors_patronized  \\\n",
       "purchased_again_within_7_days                                       \n",
       "0                                         378                 378   \n",
       "1                                        1640                1640   \n",
       "\n",
       "                               different_products_purchased  \n",
       "purchased_again_within_7_days                                \n",
       "0                                                       378  \n",
       "1                                                      1640  "
      ]
     },
     "execution_count": 5,
     "metadata": {},
     "output_type": "execute_result"
    }
   ],
   "source": [
    "bi_df.groupby(['purchased_again_within_7_days']).count()"
   ]
  },
  {
   "cell_type": "code",
   "execution_count": 6,
   "id": "798dee4f",
   "metadata": {},
   "outputs": [],
   "source": [
    "formula = \"purchased_again_within_7_days ~ purchase_total + vendors_patronized + different_products_purchased\""
   ]
  },
  {
   "cell_type": "code",
   "execution_count": 7,
   "id": "b037903a",
   "metadata": {},
   "outputs": [],
   "source": [
    "binomial = smf.glm(formula=formula, data=bi_df, family=sm.families.Binomial()).fit()"
   ]
  },
  {
   "cell_type": "code",
   "execution_count": 8,
   "id": "660bbbf8",
   "metadata": {},
   "outputs": [
    {
     "name": "stdout",
     "output_type": "stream",
     "text": [
      "                       Generalized Linear Model Regression Results                       \n",
      "=========================================================================================\n",
      "Dep. Variable:     purchased_again_within_7_days   No. Observations:                 2018\n",
      "Model:                                       GLM   Df Residuals:                     2014\n",
      "Model Family:                           Binomial   Df Model:                            3\n",
      "Link Function:                             Logit   Scale:                          1.0000\n",
      "Method:                                     IRLS   Log-Likelihood:                -957.07\n",
      "Date:                           Mon, 23 Jan 2023   Deviance:                       1914.1\n",
      "Time:                                   19:39:48   Pearson chi2:                 2.03e+03\n",
      "No. Iterations:                                4   Pseudo R-squ. (CS):            0.01595\n",
      "Covariance Type:                       nonrobust                                         \n",
      "================================================================================================\n",
      "                                   coef    std err          z      P>|z|      [0.025      0.975]\n",
      "------------------------------------------------------------------------------------------------\n",
      "Intercept                        1.2424      0.163      7.621      0.000       0.923       1.562\n",
      "purchase_total                  -0.0106      0.002     -5.141      0.000      -0.015      -0.007\n",
      "vendors_patronized               0.0594      0.164      0.362      0.717      -0.262       0.381\n",
      "different_products_purchased     0.3218      0.124      2.585      0.010       0.078       0.566\n",
      "================================================================================================\n"
     ]
    }
   ],
   "source": [
    "print(binomial.summary())"
   ]
  },
  {
   "cell_type": "code",
   "execution_count": null,
   "id": "58eac39b",
   "metadata": {},
   "outputs": [],
   "source": []
  }
 ],
 "metadata": {
  "kernelspec": {
   "display_name": "Python 3 (ipykernel)",
   "language": "python",
   "name": "python3"
  },
  "language_info": {
   "codemirror_mode": {
    "name": "ipython",
    "version": 3
   },
   "file_extension": ".py",
   "mimetype": "text/x-python",
   "name": "python",
   "nbconvert_exporter": "python",
   "pygments_lexer": "ipython3",
   "version": "3.8.5"
  }
 },
 "nbformat": 4,
 "nbformat_minor": 5
}
